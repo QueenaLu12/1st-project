{
 "cells": [
  {
   "cell_type": "markdown",
   "metadata": {},
   "source": [
    "# Profitable App Profiles for the App Store and Google Play Market\n",
    "Introduction of this project:\n",
    "- This project is about studying how theses free apps from App Store and Google Player make profit. During this process, I will collect data sets about the apps fom these two source first and then do some cleasing an shaping job with python functions and all kinds of variables as well as data types. \n",
    "- My final work is to help the App suppliers benefit more based on the analysis of the ready data and help developers understand what type of apps are likely to attract more users on Google Play and App Store."
   ]
  },
  {
   "cell_type": "markdown",
   "metadata": {},
   "source": [
    "# opening and exploring data\n",
    "As was September 2018, there was approximately 2 million IOS apps available in Apple Store and 2.1 million android apps available in Google Play.\n",
    "\n",
    "Collecting data for over 4 million apps requires a significant time and money, so we'll try to analyze a sample of data instead. To avoid spending resources with collecting new data ourselves, we should first to see whether we can find any relevant existing data at no cost. Luchily, there are two dataset suitable for our purpose.\n",
    "\n",
    "Let's start opening and exploring the data!"
   ]
  },
  {
   "cell_type": "code",
   "execution_count": null,
   "metadata": {},
   "outputs": [],
   "source": [
    "from csv import reader"
   ]
  },
  {
   "cell_type": "code",
   "execution_count": null,
   "metadata": {},
   "outputs": [],
   "source": [
    "### Apple Store data set\n",
    "opened_file = open('AppleStore.csv')\n",
    "read_file = reader(opened_file)\n",
    "ios = list(read_file)\n",
    "ios_header = ios[0]\n",
    "ios = ios[1:]"
   ]
  },
  {
   "cell_type": "code",
   "execution_count": null,
   "metadata": {},
   "outputs": [],
   "source": [
    "### Google Play data set\n",
    "opened_file = open(\"googleplaystore.csv\")\n",
    "read_file = reader(opened_file)\n",
    "android = list(read_file)\n",
    "android_header = android[0]\n",
    "android = android[1:]"
   ]
  },
  {
   "cell_type": "code",
   "execution_count": null,
   "metadata": {},
   "outputs": [],
   "source": [
    "def explore_data(dataset,start,end,rows_and_columns=False):\n",
    "    dataset_slice = dataset[start:end]\n",
    "    for row in dataset_slice:\n",
    "        print(row)\n",
    "        print(\"\\n\")\n",
    "    if rows_and_columns:\n",
    "        print(\"Number of rows: \",len(dataset))\n",
    "        print(\"Number of columns: \",len(dataset[0]))"
   ]
  },
  {
   "cell_type": "code",
   "execution_count": null,
   "metadata": {},
   "outputs": [],
   "source": [
    "print(ios_header)\n",
    "print(\"\\n\")\n",
    "explore_data(ios,0,6,rows_and_columns=True)"
   ]
  },
  {
   "cell_type": "code",
   "execution_count": null,
   "metadata": {},
   "outputs": [],
   "source": [
    "print(android_header)\n",
    "print(\"\\n\")\n",
    "explore_data(android,0,6,rows_and_columns=True)"
   ]
  },
  {
   "cell_type": "markdown",
   "metadata": {},
   "source": [
    "- [Googleplay dataset](https://www.kaggle.com/lava18/google-play-store-apps/home)\n",
    "- [Applestore dataset](https://www.kaggle.com/ramamet4/app-store-apple-data-set-10k-apps/home)"
   ]
  },
  {
   "cell_type": "markdown",
   "metadata": {},
   "source": [
    "# Deleting wrong data\n",
    "The Google play dataset has a dedicated [discussion section](https://www.kaggle.com/lava18/google-play-store-apps/discussion), and in one of the discussions we find an error data in row 10472. Let's print this row and compare it with the header and one correct row."
   ]
  },
  {
   "cell_type": "code",
   "execution_count": null,
   "metadata": {},
   "outputs": [],
   "source": [
    "print(android_header)\n",
    "print(\"\\n\")\n",
    "print(android[10472])\n",
    "print(\"\\n\")\n",
    "print(android[0])"
   ]
  },
  {
   "cell_type": "code",
   "execution_count": null,
   "metadata": {},
   "outputs": [],
   "source": [
    "print(len(android))\n",
    "del android[10472]\n",
    "print(len(android))"
   ]
  },
  {
   "cell_type": "code",
   "execution_count": null,
   "metadata": {},
   "outputs": [],
   "source": [
    "for row in ios:\n",
    "    if len(row)!=len(ios_header):\n",
    "        print(row)"
   ]
  },
  {
   "cell_type": "markdown",
   "metadata": {},
   "source": [
    "It seems there is no wrong data in ios dataset. Let's move on."
   ]
  },
  {
   "cell_type": "markdown",
   "metadata": {},
   "source": [
    "# Remove duplicate entries\n",
    "If we explore google play dataset long enough, we will find there are more than one same rows. In this part , we'll cleasing the duplicates."
   ]
  },
  {
   "cell_type": "code",
   "execution_count": null,
   "metadata": {},
   "outputs": [],
   "source": [
    "duplicate_rows = []\n",
    "unique_rows = []\n",
    "for row in android:\n",
    "    name = row[0]\n",
    "    if name in unique_rows:\n",
    "        duplicate_rows.append(name)\n",
    "    else:\n",
    "        unique_rows.append(name)\n",
    "print(\"Number of duplicat rows:\",len(duplicate_rows))\n",
    "print(\"Number of unique rows:\", len(unique_rows))\n",
    "print(duplicate_rows[:10])"
   ]
  },
  {
   "cell_type": "code",
   "execution_count": null,
   "metadata": {},
   "outputs": [],
   "source": [
    "for row in android:\n",
    "    name = row[0]\n",
    "    if name == \"Instagram\":\n",
    "        print(row)"
   ]
  },
  {
   "cell_type": "markdown",
   "metadata": {},
   "source": [
    "We do not want to count certain apps more than once when we analyze data, so we should remove the duplicates of certain apps. One thing we can do is to remove the duplicate randomly, but we have a better way to do it.\n",
    "\n",
    "From the above example, we can see these duplicates have some difference with the fourth column, reviews. The more reviews means the date is closer to current date, so we will use the row with the biggest rewiews.\n",
    "\n",
    "To do that we will:\n",
    "- create a dictionary in which each key is a unique app and the value is the highest number of reviews of the app\n",
    "- use the dictionary to create a new data set with one unique entry of each app"
   ]
  },
  {
   "cell_type": "code",
   "execution_count": null,
   "metadata": {},
   "outputs": [],
   "source": [
    "reviews_max = {}\n",
    "for row in android:\n",
    "    name = row[0]\n",
    "    n_review = float(row[3])\n",
    "    if name in reviews_max and reviews_max[name]<n_review:\n",
    "        reviews_max[name] = n_review \n",
    "    elif name not in reviews_max:\n",
    "        reviews_max[name] = n_review\n",
    "      \n",
    "print(len(reviews_max))\n",
    "        "
   ]
  },
  {
   "cell_type": "markdown",
   "metadata": {},
   "source": [
    "Append the entire row to the android_clean list (which will eventually be a list of list and store our cleaned data set).\n",
    "\n",
    "Append the name of the app name to the already_added list — this helps us to keep track of apps that we already added."
   ]
  },
  {
   "cell_type": "code",
   "execution_count": null,
   "metadata": {},
   "outputs": [],
   "source": [
    "android_clean = []\n",
    "already_added = []\n",
    "for row in android:\n",
    "    name = row[0]\n",
    "    n_reviews = float(row[3])\n",
    "    if n_reviews == reviews_max[name] and name not in already_added:\n",
    "        android_clean.append(row)\n",
    "        already_added.append(name)\n",
    "print(len(android_clean))"
   ]
  },
  {
   "cell_type": "markdown",
   "metadata": {},
   "source": [
    "# Remove non-English rows\n",
    "From the name of apps,we can see some of the apps are not refered to the English-speaking audience, so we should remove these rows before analysis.\n",
    "\n",
    "Below, we will use a function to judge whether a string is English or not based on ASCII code."
   ]
  },
  {
   "cell_type": "code",
   "execution_count": null,
   "metadata": {},
   "outputs": [],
   "source": [
    "def is_english(a_string):\n",
    "    for letter in a_string:\n",
    "        if ord(letter)>127:\n",
    "            return False\n",
    "    \n",
    "    return True\n",
    "is_english(\"爱奇艺\")\n",
    "    \n",
    "            "
   ]
  },
  {
   "cell_type": "markdown",
   "metadata": {},
   "source": [
    "We wrote a function that detects non-English app names, but we saw that the function couldn't correctly identify certain English app names like 'Docs To Go™ Free Office Suite' and 'Instachat 😜'. This is because emojis and characters like ™ fall outside the ASCII range and have corresponding numbers over 127.\n",
    "\n",
    "To minimize the impact of data loss, we'll only remove these apps if they have more than 3 characters OUT OF ASCII CODE."
   ]
  },
  {
   "cell_type": "code",
   "execution_count": null,
   "metadata": {},
   "outputs": [],
   "source": [
    "def is_english(string):\n",
    "    count = 0\n",
    "    for character in string:\n",
    "        if ord(character)>127:\n",
    "            count += 1\n",
    "    if count > 3:\n",
    "        return False\n",
    "    return True\n",
    "\n",
    "is_english(\"Instachat 😜\")"
   ]
  },
  {
   "cell_type": "markdown",
   "metadata": {},
   "source": [
    "We'll use this new function to filter those which are not English apps."
   ]
  },
  {
   "cell_type": "code",
   "execution_count": null,
   "metadata": {},
   "outputs": [],
   "source": [
    "android_english = []\n",
    "ios_english = []\n",
    "for row in android_clean:\n",
    "    name = row[0]\n",
    "    if is_english(name):\n",
    "        android_english.append(row)\n",
    "        \n",
    "for row in ios:\n",
    "    name = row[2]\n",
    "    if is_english(name):\n",
    "        ios_english.append(row)\n",
    "explore_data(android_english,0,3,True)\n",
    "print(\"\\n\")\n",
    "explore_data(ios_english,0,3,True)\n",
    "    "
   ]
  },
  {
   "cell_type": "markdown",
   "metadata": {},
   "source": [
    "# Isolating free apps\n",
    "Our data sets contain both free and non-free apps; we'll need to isolate only the free apps for our analysis."
   ]
  },
  {
   "cell_type": "code",
   "execution_count": null,
   "metadata": {},
   "outputs": [],
   "source": [
    "android_free = []\n",
    "ios_free = []\n",
    "for row in android_english:\n",
    "    price = row[7]\n",
    "    if price == \"0\":\n",
    "        android_free.append(row)\n",
    "        \n",
    "for row in ios_english:\n",
    "    price = row[5]\n",
    "    if price == \"0\":\n",
    "        ios_free.append(row)\n",
    "        \n",
    "print(len(android_free))\n",
    "print(len(ios_free))\n",
    "        "
   ]
  },
  {
   "cell_type": "markdown",
   "metadata": {},
   "source": [
    "# Most Common App by Genre\n",
    "As we mentioned in the introduction, our aim is to determine the kinds of apps that are likely to attract more users because our revenue is highly influenced by the number of people using our apps.\n",
    "\n",
    "To minimize risk and overhead, our validation strategy for an app idea is compromised three steps:\n",
    "\n",
    "1. Build a minimal android vertion of the app, and add it to google play\n",
    "2. if the app has a good response from users, we then develop it further\n",
    "3. if the app is profitable after six months, we will build an ios version and then add it to Apple Store.\n",
    "\n",
    "Because our end goal is to add the app on both the app store and google play, we need to find app profileon both markets. For instance, a profile that might work well on both markets might be a productivity app that makes use of gamification.\n",
    "\n",
    "Let's begin the analysis by getting a sense of the most common genres for each market. For this, we'll build a frequency table for the prime_genre column of the App Store data set, and the Genre and Category columns of the Google Play data set.\n",
    "\n",
    "We will build two functions we can use to analyze the frequency table.\n",
    "\n",
    "- one function we'll build to generate frequency table to show percentage\n",
    "- another function we canuse to display the percentage on a descending order"
   ]
  },
  {
   "cell_type": "code",
   "execution_count": null,
   "metadata": {},
   "outputs": [],
   "source": [
    "print(android_header)\n",
    "print(\"\\n\")\n",
    "print(ios_header)"
   ]
  },
  {
   "cell_type": "code",
   "execution_count": null,
   "metadata": {},
   "outputs": [],
   "source": [
    "def freq_table(dataset, index):\n",
    "    dict_freq = {}\n",
    "    total = 0\n",
    "    for row in dataset:\n",
    "        total += 1\n",
    "        if row[index] in dict_freq:\n",
    "            dict_freq[row[index]] += 1\n",
    "        else:\n",
    "            dict_freq[row[index]] = 1\n",
    "    dict_table = {}\n",
    "    for key in dict_freq:\n",
    "        percentage = (dict_freq[key] / total) * 100\n",
    "        dict_table[key] = percentage\n",
    "        \n",
    "    return dict_table"
   ]
  },
  {
   "cell_type": "code",
   "execution_count": null,
   "metadata": {},
   "outputs": [],
   "source": [
    "freq_table(android_free, 9)"
   ]
  },
  {
   "cell_type": "code",
   "execution_count": null,
   "metadata": {},
   "outputs": [],
   "source": [
    "def display_table(dataset, index):\n",
    "    table = freq_table(dataset,index)\n",
    "    display_table = []\n",
    "    for key in table:\n",
    "        key_val_as_tuple = (table[key], key)\n",
    "        display_table.append(key_val_as_tuple)\n",
    "    sorted_table = sorted(display_table, reverse=True)\n",
    "    for entry in sorted_table:\n",
    "        print(entry[1] + \":\" + str(entry[0]))\n",
    "    \n",
    "    "
   ]
  },
  {
   "cell_type": "markdown",
   "metadata": {},
   "source": [
    "We begin to analyze the frequency table for genre, category, and prime_genre below."
   ]
  },
  {
   "cell_type": "code",
   "execution_count": null,
   "metadata": {},
   "outputs": [],
   "source": [
    "ios_display = display_table(ios_free,12)"
   ]
  },
  {
   "cell_type": "markdown",
   "metadata": {},
   "source": [
    "We can see that among the free English apps, more than a half (58.16%) are games. Entertainment apps are close to 8%, followed by photo and video apps, which are close to 5%. Only 3.66% of the apps are designed for education, followed by social networking apps which amount for 3.29% of apps in our data set.\n",
    "\n",
    "The general impression is that App Store (at least the part containing free English apps) is dominated by apps that are fun (games,entertainment,photo and video, social networking, sports music, etc.), while apps with practical purpose (education,shopping, utilities, productivity, lifestyle,etc.) are more rare. However, the fact that fun apps are the most numerous doesn't imply that they also have the greatest number of users - the demand might not be the same as the offer.\n",
    "\n",
    "Let's continue by examining the Genre and Category columns of the Google Play data set( two columns which seem to be related).\n"
   ]
  },
  {
   "cell_type": "code",
   "execution_count": null,
   "metadata": {},
   "outputs": [],
   "source": [
    "android_display = display_table(android_free,1) # Category"
   ]
  },
  {
   "cell_type": "markdown",
   "metadata": {},
   "source": [
    "The landscape seems significantly different on Google Play: there are not that many apps designed for fun, and it seems that a good number of apps are designed for practical purpose. However, if we investigate this further, we can see that family category(which accounts for almost 19% of the apps) means mostly games for kids.\n",
    "\n",
    "Even so, practical apps seem to have a better representation on Google Play compared to App Store. This picture is also confirmed bu the frequency table we see for the Genre column: "
   ]
  },
  {
   "cell_type": "code",
   "execution_count": null,
   "metadata": {},
   "outputs": [],
   "source": [
    "android_display = display_table(android_free,9) # Genre"
   ]
  },
  {
   "cell_type": "markdown",
   "metadata": {},
   "source": [
    "The difference between the Genre and the Category column is not crystal clear, but one thing we can notice is that the Genre is much more granular (it has more categories). We are only looking for the bigger picture at the moment, so we will only work with the Category column moving forward.\n",
    "\n",
    "Up to this point, we found that App Store is dominated by apps designed for fun,while Google Play shows a more balanced landscape of both fun and practical apps. Now, we'dlike to get an idea about the kind of apps that have most users."
   ]
  },
  {
   "cell_type": "markdown",
   "metadata": {},
   "source": [
    "# Most popular apps by Genre on the App Store\n",
    "\n",
    "One way to find out whst genres are the most popular(have the most users) is to calculate the average number of installs for each app genre. For the Google Play data set, we can find this information in the Installs column, but for the App Store data set this information is missing. As a workaround, we will take the total number of users ratings as a proxy, which we can find in the rating_count_tot app.\n",
    "\n",
    "Below, we calculate the average number of user ratings per app genre on the App Store."
   ]
  },
  {
   "cell_type": "code",
   "execution_count": null,
   "metadata": {},
   "outputs": [],
   "source": [
    "genre_ios = freq_table(ios_free, 12)\n",
    "for genre in genre_ios:\n",
    "    total = 0\n",
    "    len_genre = 0\n",
    "    for app in ios_free:\n",
    "        genre_app = app[12]\n",
    "        if genre_app == genre:\n",
    "            n_ratings = float(app[6])\n",
    "            total += n_ratings\n",
    "            len_genre += 1\n",
    "    avg_n_ratings = total / len_genre\n",
    "   \n",
    "    \n",
    "    print(genre, \":\", avg_n_ratings)"
   ]
  },
  {
   "cell_type": "markdown",
   "metadata": {},
   "source": [
    "On average, navigation apps have the highest number of user reviews, but this figure is heavily influenced by Waze and Google Maps, which have close to half a million user reviews together:"
   ]
  },
  {
   "cell_type": "code",
   "execution_count": null,
   "metadata": {},
   "outputs": [],
   "source": [
    "for app in ios_free:\n",
    "    if app[12] == \"Navigation\":\n",
    "        print(app[2], \":\",app[6])"
   ]
  },
  {
   "cell_type": "code",
   "execution_count": null,
   "metadata": {},
   "outputs": [],
   "source": [
    "for app in ios_free:\n",
    "    if app[12] == \"Social Networking\":\n",
    "        print(app[2], \":\",app[6])"
   ]
  },
  {
   "cell_type": "markdown",
   "metadata": {},
   "source": [
    "The same pattern applies to social networking apps, where the average number is heavily influenced by a few giants like Facebook, Pinterest, Skype, etc. Same applies to music apps, where a few big players like Pandora, Spotify, and Shazam heavily influence the average number.\n",
    "\n",
    "Our aim is to find popular genres, but navigation, social networking or music apps might seem more popular than they really are. The average number of ratings seem to be skewed by very few apps which have hundreds of thousands of user ratings, while the other apps may struggle to get past the 10,000 threshold. We could get a better picture by removing these extremely popular apps for each genre and then rework the averages, but we'll leave this level of detail for later.\n",
    "\n"
   ]
  },
  {
   "cell_type": "markdown",
   "metadata": {},
   "source": [
    "However, this niche seems to show some potential. One thing we could do is take another popular book and turn it into an app where we could add different features besides the raw version of the book. This might include daily quotes from the book, an audio version of the book, quizzes about the book, etc. On top of that, we could also embed a dictionary within the app, so users don't need to exit our app to look up words in an external app.\n",
    "\n",
    "This idea seems to fit well with the fact that the App Store is dominated by for-fun apps. This suggests the market might be a bit saturated with for-fun apps, which means a practical app might have more of a chance to stand out among the huge number of apps on the App Store.\n",
    "\n",
    "Other genres that seem popular include weather, book, food and drink, or finance. The book genre seem to overlap a bit with the app idea we described above, but the other genres don't seem too interesting to us:\n",
    "\n",
    "Weather apps — people generally don't spend too much time in-app, and the chances of making profit from in-app adds are low. Also, getting reliable live weather data may require us to connect our apps to non-free APIs.\n",
    "\n",
    "Food and drink — examples here include Starbucks, Dunkin' Donuts, McDonald's, etc. So making a popular food and drink app requires actual cooking and a delivery service, which is outside the scope of our company.\n",
    "\n",
    "Finance apps — these apps involve banking, paying bills, money transfer, etc. Building a finance app requires domain knowledge, and we don't want to hire a finance expert just to build an app.\n",
    "\n",
    "Now let's analyze the Google Play market a bit."
   ]
  },
  {
   "cell_type": "code",
   "execution_count": null,
   "metadata": {},
   "outputs": [],
   "source": [
    "print(ios_header)\n",
    "print(\"\\n\")\n",
    "print(ios[:3])"
   ]
  },
  {
   "cell_type": "code",
   "execution_count": null,
   "metadata": {},
   "outputs": [],
   "source": [
    "'''dict_prime_genre = {}\n",
    "for row in ios_english:\n",
    "    genre = row[12]\n",
    "    if genre in dict_prime_genre:\n",
    "        dict_prime_genre[genre] += 1\n",
    "    else:\n",
    "        dict_prime_genre[genre] = 1\n",
    "        \n",
    "dict_prime_rating = {}\n",
    "for row in ios_english:\n",
    "    genre = row[12]\n",
    "    ratings = row[6]\n",
    "    if ratings in dict_prime_rating:\n",
    "        dict_prime_rating[genre] += ratings\n",
    "    else:\n",
    "        dict_prime_rating[genre] = ratings\n",
    "        \n",
    "print(dict_prime_genre)\n",
    "print(\"\\n\")\n",
    "print(dict_prime_rating)"
   ]
  },
  {
   "cell_type": "code",
   "execution_count": null,
   "metadata": {},
   "outputs": [],
   "source": [
    "'''average = {}\n",
    "for key in dict_prime_rating:\n",
    "    if key in dict_prime_genre:\n",
    "        avg = int(dict_prime_rating[key]) / dict_prime_genre[key]\n",
    "        average[key] = avg\n",
    "        \n",
    "print(average)\n",
    "\n",
    "average_list = []\n",
    "for key in average:\n",
    "    average_tuple = (average[key],key)\n",
    "    average_list.append(average_tuple)\n",
    "sorted_tuple = sorted(average_list,reverse=True)\n",
    "    \n",
    "print(average_list)\n",
    "\n",
    "for item in average_list:\n",
    "    print(item[1],\":\",item[0])'''"
   ]
  },
  {
   "cell_type": "markdown",
   "metadata": {},
   "source": [
    "# Most Popular Apps by Genre on Google Play\n",
    "For the Google Play market, we actually have data about the number of installs, so we should be able to get a clearer picture about genre popularity. However, the install numbers don't seem precise enough — we can see that most values are open-ended (100+, 1,000+, 5,000+, etc.):"
   ]
  },
  {
   "cell_type": "code",
   "execution_count": null,
   "metadata": {},
   "outputs": [],
   "source": [
    "display_table(android_free, 5)"
   ]
  },
  {
   "cell_type": "markdown",
   "metadata": {},
   "source": [
    "One problem with this data is that is not precise. For instance, we don't know whether an app with 100,000+ installs has 100,000 installs, 200,000, or 350,000. However, we don't need very precise data for our purposes — we only want to get an idea which app genres attract the most users, and we don't need perfect precision with respect to the number of users.\n",
    "\n",
    "We're going to leave the numbers as they are, which means that we'll consider that an app with 100,000+ installs has 100,000 installs, and an app with 1,000,000+ installs has 1,000,000 installs, and so on.\n",
    "\n",
    "To perform computations, however, we'll need to convert each install number to float — this means that we need to remove the commas and the plus characters, otherwise the conversion will fail and raise an error. We'll do this directly in the loop below, where we also compute the average number of installs for each genre (category).\n",
    "\n"
   ]
  },
  {
   "cell_type": "code",
   "execution_count": null,
   "metadata": {},
   "outputs": [],
   "source": [
    "print(android_header)\n",
    "print(\"\\n\")\n",
    "print(android_free[:3])"
   ]
  },
  {
   "cell_type": "code",
   "execution_count": null,
   "metadata": {},
   "outputs": [],
   "source": [
    "category_android = freq_table(android_free,1)\n",
    "for category in category_android:\n",
    "    total = 0\n",
    "    len_installs = 0\n",
    "    for row in android_free:\n",
    "        category_installs = row[1]\n",
    "        \n",
    "        if category_installs == category:\n",
    "            installs = row[5]\n",
    "            installs = installs.replace(\"+\",\"\")\n",
    "            installs = installs.replace(\",\",\"\")\n",
    "            total += float(installs)\n",
    "            len_installs += 1\n",
    "    avg_installs = total / len_installs\n",
    "    print(category, \":\",avg_installs)"
   ]
  },
  {
   "cell_type": "markdown",
   "metadata": {},
   "source": [
    "On average, communication apps have the most installs: 38,456,119. This number is heavily skewed up by a few apps that have over one billion installs (WhatsApp, Facebook Messenger, Skype, Google Chrome, Gmail, and Hangouts), and a few others with over 100 and 500 million installs:"
   ]
  },
  {
   "cell_type": "code",
   "execution_count": null,
   "metadata": {},
   "outputs": [],
   "source": [
    "for row in android_free:\n",
    "    if row[1] == \"COMMUNICATION\":\n",
    "        print(row[0],\":\",row[5])"
   ]
  },
  {
   "cell_type": "markdown",
   "metadata": {},
   "source": [
    "If we removed all the communication apps that have over 100 million installs, the average would be reduced roughly ten times:"
   ]
  },
  {
   "cell_type": "markdown",
   "metadata": {},
   "source": [
    "# Conclusions\n",
    "In this project, we analyzed data about the App Store and Google Play mobile apps with the goal of recommending an app profile that can be profitable for both markets.\n",
    "\n",
    "Our analysis is composed of three parts: first, we should study the popular apps to see hwy these apps have high number of users; second, we should study why some apps have lower attraction; third, we should remove these extreme apps with either lowest or highest number of users, and then to check what kind of genre is more popular and what kind of feature should be developed. \n",
    "\n",
    "We concluded that taking a popular book (perhaps a more recent book) and turning it into an app could be profitable for both the Google Play and the App Store markets. The markets are already full of libraries, so we need to add some special features besides the raw version of the book. This might include daily quotes from the book, an audio version of the book, quizzes on the book, a forum where people can discuss the book, etc."
   ]
  },
  {
   "cell_type": "code",
   "execution_count": null,
   "metadata": {},
   "outputs": [],
   "source": []
  }
 ],
 "metadata": {
  "kernelspec": {
   "display_name": "Python 3",
   "language": "python",
   "name": "python3"
  },
  "language_info": {
   "codemirror_mode": {
    "name": "ipython",
    "version": 3
   },
   "file_extension": ".py",
   "mimetype": "text/x-python",
   "name": "python",
   "nbconvert_exporter": "python",
   "pygments_lexer": "ipython3",
   "version": "3.7.3"
  }
 },
 "nbformat": 4,
 "nbformat_minor": 2
}
